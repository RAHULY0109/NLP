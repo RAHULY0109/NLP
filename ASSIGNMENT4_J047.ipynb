{
  "cells": [
    {
      "cell_type": "markdown",
      "metadata": {
        "id": "M2_uYCS0UIA9"
      },
      "source": [
        "# **Part 1: Query Matching**"
      ]
    },
    {
      "cell_type": "code",
      "execution_count": 1,
      "metadata": {
        "colab": {
          "base_uri": "https://localhost:8080/"
        },
        "id": "OKoXeH88POuC"
      },
      "outputs": [
        {
          "name": "stderr",
          "output_type": "stream",
          "text": [
            "\n",
            "[notice] A new release of pip is available: 24.3.1 -> 25.2\n",
            "[notice] To update, run: python.exe -m pip install --upgrade pip\n"
          ]
        },
        {
          "name": "stdout",
          "output_type": "stream",
          "text": [
            "Defaulting to user installation because normal site-packages is not writeable\n",
            "Requirement already satisfied: thefuzz in c:\\users\\mpstme.student\\appdata\\roaming\\python\\python311\\site-packages (0.22.1)\n",
            "Requirement already satisfied: scikit-learn in c:\\users\\mpstme.student\\appdata\\roaming\\python\\python311\\site-packages (1.7.1)\n",
            "Requirement already satisfied: rapidfuzz<4.0.0,>=3.0.0 in c:\\users\\mpstme.student\\appdata\\roaming\\python\\python311\\site-packages (from thefuzz) (3.14.0)\n",
            "Requirement already satisfied: numpy>=1.22.0 in c:\\users\\mpstme.student\\appdata\\roaming\\python\\python311\\site-packages (from scikit-learn) (1.26.2)\n",
            "Requirement already satisfied: scipy>=1.8.0 in c:\\users\\mpstme.student\\appdata\\roaming\\python\\python311\\site-packages (from scikit-learn) (1.16.1)\n",
            "Requirement already satisfied: joblib>=1.2.0 in c:\\users\\mpstme.student\\appdata\\roaming\\python\\python311\\site-packages (from scikit-learn) (1.5.2)\n",
            "Requirement already satisfied: threadpoolctl>=3.1.0 in c:\\users\\mpstme.student\\appdata\\roaming\\python\\python311\\site-packages (from scikit-learn) (3.6.0)\n"
          ]
        },
        {
          "name": "stderr",
          "output_type": "stream",
          "text": [
            "\n",
            "[notice] A new release of pip is available: 24.3.1 -> 25.2\n",
            "[notice] To update, run: python.exe -m pip install --upgrade pip\n"
          ]
        }
      ],
      "source": [
        "!pip install thefuzz -q\n",
        "!pip install thefuzz scikit-learn"
      ]
    },
    {
      "cell_type": "markdown",
      "metadata": {
        "id": "3tv97cFvRqT5"
      },
      "source": [
        "### 1.1: Importing Libraries"
      ]
    },
    {
      "cell_type": "code",
      "execution_count": 2,
      "metadata": {
        "id": "6omUhfhNRnbp"
      },
      "outputs": [],
      "source": [
        "import pandas as pd\n",
        "from thefuzz import fuzz, process\n",
        "from sklearn.feature_extraction.text import TfidfVectorizer\n",
        "from sklearn.metrics.pairwise import cosine_similarity"
      ]
    },
    {
      "cell_type": "markdown",
      "metadata": {
        "id": "5o_zyBPSR5a0"
      },
      "source": [
        "### 1.2: Loading Input Data"
      ]
    },
    {
      "cell_type": "code",
      "execution_count": 3,
      "metadata": {
        "id": "rzonpfv1R4rQ"
      },
      "outputs": [],
      "source": [
        "unresolved_tickets = pd.read_csv(\"new_queries.csv\")\n",
        "knowledge_base = pd.read_csv(\"resolved_queries.csv\")"
      ]
    },
    {
      "cell_type": "code",
      "execution_count": 4,
      "metadata": {
        "id": "onM9vBkmYs8V"
      },
      "outputs": [
        {
          "data": {
            "text/plain": [
              "(                             Variation_Query  Matches_With_Query_ID\n",
              " 0           Unabel to conect to the internet                      1\n",
              " 1                  Can’t connect to internet                      1\n",
              " 2                        Intenet not working                      1\n",
              " 3               Payment failed while chekout                      2\n",
              " 4  Payment did not go through during chckout                      2,\n",
              "    Query_ID                    Pre_Resolved_Query\n",
              " 0         1     Unable to connect to the internet\n",
              " 1         2        Payment failed during checkout\n",
              " 2         3     App crashes when opening settings\n",
              " 3         4   Forgot password and unable to reset\n",
              " 4         5  Unable to upload files to the server)"
            ]
          },
          "execution_count": 4,
          "metadata": {},
          "output_type": "execute_result"
        }
      ],
      "source": [
        "unresolved_tickets.head(), knowledge_base.head()"
      ]
    },
    {
      "cell_type": "markdown",
      "metadata": {
        "id": "37Em50T2SAFM"
      },
      "source": [
        "### 1.3: Text Normalization"
      ]
    },
    {
      "cell_type": "code",
      "execution_count": 5,
      "metadata": {
        "id": "75K6ewJ5R_EG"
      },
      "outputs": [],
      "source": [
        "# Clean the text data by converting to lowercase and removing leading/trailing spaces\n",
        "unresolved_tickets[\"Variation_Query\"] = unresolved_tickets[\"Variation_Query\"].str.lower().str.strip()\n",
        "knowledge_base[\"Pre_Resolved_Query\"] = knowledge_base[\"Pre_Resolved_Query\"].str.lower().str.strip()"
      ]
    },
    {
      "cell_type": "markdown",
      "metadata": {
        "id": "4QG6ffohSPN9"
      },
      "source": [
        "### 1.4: Fuzzy String Matching Analysis"
      ]
    },
    {
      "cell_type": "code",
      "execution_count": 6,
      "metadata": {
        "id": "hNbLAyobSNZ7"
      },
      "outputs": [],
      "source": [
        "def find_best_fuzzy_match(query_text, kb_df, min_score=70):\n",
        "    \"\"\"Iterates through different fuzzy scorers to find the best match.\"\"\"\n",
        "    known_queries = kb_df[\"Pre_Resolved_Query\"].tolist()\n",
        "    scorers = {\n",
        "        \"ratio\": fuzz.ratio,\n",
        "        \"partial_ratio\": fuzz.partial_ratio,\n",
        "        \"token_sort_ratio\": fuzz.token_sort_ratio,\n",
        "        \"token_set_ratio\": fuzz.token_set_ratio\n",
        "    }\n",
        "    \n",
        "    best_score = -1\n",
        "    best_match_text = None\n",
        "    best_method_name = None\n",
        "\n",
        "    for method_name, scorer_func in scorers.items():\n",
        "        match_text, score = process.extractOne(query_text, known_queries, scorer=scorer_func)\n",
        "        if score > best_score:\n",
        "            best_score = score\n",
        "            best_match_text = match_text\n",
        "            best_method_name = method_name\n",
        "\n",
        "    if best_score >= min_score:\n",
        "        matched_id = kb_df.loc[kb_df[\"Pre_Resolved_Query\"] == best_match_text, \"Query_ID\"].iloc[0]\n",
        "        return best_method_name, best_match_text, matched_id, best_score\n",
        "    \n",
        "    return None, None, None, None\n",
        "\n",
        "# Apply the fuzzy matching logic\n",
        "fuzzy_match_results = []\n",
        "for query in unresolved_tickets[\"Variation_Query\"]:\n",
        "    result = find_best_fuzzy_match(query, knowledge_base)\n",
        "    fuzzy_match_results.append((query,) + result)\n",
        "\n",
        "fuzzy_analysis_df = pd.DataFrame(fuzzy_match_results, columns=[\n",
        "    \"Unresolved_Query\", \"Best_Method\", \"Fuzzy_Match\", \"Fuzzy_Query_ID\", \"Fuzzy_Score\"\n",
        "])"
      ]
    },
    {
      "cell_type": "markdown",
      "metadata": {
        "id": "v_PhX_tFSjIA"
      },
      "source": [
        "### 1.5: TF-IDF and Cosine Similarity Analysis"
      ]
    },
    {
      "cell_type": "code",
      "execution_count": 7,
      "metadata": {
        "id": "nvTOJ1OSSgjT"
      },
      "outputs": [],
      "source": [
        "vectorizer_model = TfidfVectorizer(stop_words=\"english\")\n",
        "\n",
        "# Create a corpus of all queries\n",
        "corpus = unresolved_tickets[\"Variation_Query\"].tolist() + knowledge_base[\"Pre_Resolved_Query\"].tolist()\n",
        "tfidf_vectors = vectorizer_model.fit_transform(corpus)\n",
        "\n",
        "# Split the vectors back into unresolved and resolved sets\n",
        "num_unresolved = len(unresolved_tickets)\n",
        "unresolved_vectors = tfidf_vectors[:num_unresolved]\n",
        "resolved_vectors = tfidf_vectors[num_unresolved:]\n",
        "\n",
        "# Calculate cosine similarity\n",
        "similarity_matrix = cosine_similarity(unresolved_vectors, resolved_vectors)\n",
        "\n",
        "tfidf_match_results = []\n",
        "for i, query in enumerate(unresolved_tickets[\"Variation_Query\"]):\n",
        "    top_match_index = similarity_matrix[i].argmax()\n",
        "    top_score = similarity_matrix[i][top_match_index]\n",
        "    matched_info = knowledge_base.iloc[top_match_index]\n",
        "    tfidf_match_results.append((query, matched_info[\"Pre_Resolved_Query\"], matched_info[\"Query_ID\"], top_score))\n",
        "\n",
        "tfidf_analysis_df = pd.DataFrame(tfidf_match_results, columns=[\n",
        "    \"Unresolved_Query\", \"TFIDF_Match\", \"TFIDF_Query_ID\", \"TFIDF_Score\"\n",
        "])"
      ]
    },
    {
      "cell_type": "markdown",
      "metadata": {
        "id": "dWyVS_KBS0QN"
      },
      "source": [
        "### 1.6: Merging Results from Both Methods"
      ]
    },
    {
      "cell_type": "code",
      "execution_count": 8,
      "metadata": {
        "id": "_kO6IkzHSzJV"
      },
      "outputs": [],
      "source": [
        "merged_analyses = pd.merge(fuzzy_analysis_df, tfidf_analysis_df, on=\"Unresolved_Query\")"
      ]
    },
    {
      "cell_type": "markdown",
      "metadata": {
        "id": "ElS3390nT1gG"
      },
      "source": [
        "### 1.7: Final Selection Logic"
      ]
    },
    {
      "cell_type": "code",
      "execution_count": 9,
      "metadata": {
        "id": "F69jF1vaQhxY"
      },
      "outputs": [],
      "source": [
        "def select_best_match(data_row, f_thresh=75, t_thresh=0.65):\n",
        "    \"\"\"Applies thresholds to pick the final match, prioritizing fuzzy search.\"\"\"\n",
        "    fuzzy_score = data_row[\"Fuzzy_Score\"]\n",
        "    tfidf_score = data_row[\"TFIDF_Score\"]\n",
        "\n",
        "    if fuzzy_score and fuzzy_score >= f_thresh:\n",
        "        return pd.Series([data_row[\"Fuzzy_Match\"], data_row[\"Fuzzy_Query_ID\"], f\"Fuzzy-{data_row['Best_Method']}\"])\n",
        "    elif tfidf_score >= t_thresh:\n",
        "        return pd.Series([data_row[\"TFIDF_Match\"], data_row[\"TFIDF_Query_ID\"], \"TFIDF\"])\n",
        "    else:\n",
        "        return pd.Series([None, None, \"No Match\"])\n",
        "\n",
        "final_assignments = merged_analyses.apply(select_best_match, axis=1)\n",
        "final_assignments.columns = [\"Final_Match\", \"Final_Query_ID\", \"Method_Used\"]\n",
        "\n",
        "final_results = pd.concat([merged_analyses, final_assignments], axis=1)"
      ]
    },
    {
      "cell_type": "markdown",
      "metadata": {
        "id": "cF_b066gUBv0"
      },
      "source": [
        "### 1.8: Display Final Output"
      ]
    },
    {
      "cell_type": "code",
      "execution_count": 10,
      "metadata": {
        "id": "wdL29KzwReRZ"
      },
      "outputs": [
        {
          "data": {
            "text/html": [
              "<div>\n",
              "<style scoped>\n",
              "    .dataframe tbody tr th:only-of-type {\n",
              "        vertical-align: middle;\n",
              "    }\n",
              "\n",
              "    .dataframe tbody tr th {\n",
              "        vertical-align: top;\n",
              "    }\n",
              "\n",
              "    .dataframe thead th {\n",
              "        text-align: right;\n",
              "    }\n",
              "</style>\n",
              "<table border=\"1\" class=\"dataframe\">\n",
              "  <thead>\n",
              "    <tr style=\"text-align: right;\">\n",
              "      <th></th>\n",
              "      <th>Unresolved_Query</th>\n",
              "      <th>Fuzzy_Match</th>\n",
              "      <th>Fuzzy_Match</th>\n",
              "      <th>Method_Used</th>\n",
              "    </tr>\n",
              "  </thead>\n",
              "  <tbody>\n",
              "    <tr>\n",
              "      <th>0</th>\n",
              "      <td>unabel to conect to the internet</td>\n",
              "      <td>unable to connect to the internet</td>\n",
              "      <td>unable to connect to the internet</td>\n",
              "      <td>Fuzzy-ratio</td>\n",
              "    </tr>\n",
              "    <tr>\n",
              "      <th>1</th>\n",
              "      <td>can’t connect to internet</td>\n",
              "      <td>unable to connect to the internet</td>\n",
              "      <td>unable to connect to the internet</td>\n",
              "      <td>Fuzzy-token_set_ratio</td>\n",
              "    </tr>\n",
              "    <tr>\n",
              "      <th>2</th>\n",
              "      <td>intenet not working</td>\n",
              "      <td>None</td>\n",
              "      <td>None</td>\n",
              "      <td>No Match</td>\n",
              "    </tr>\n",
              "    <tr>\n",
              "      <th>3</th>\n",
              "      <td>payment failed while chekout</td>\n",
              "      <td>payment failed during checkout</td>\n",
              "      <td>payment failed during checkout</td>\n",
              "      <td>Fuzzy-ratio</td>\n",
              "    </tr>\n",
              "    <tr>\n",
              "      <th>4</th>\n",
              "      <td>payment did not go through during chckout</td>\n",
              "      <td>payment failed during checkout</td>\n",
              "      <td>None</td>\n",
              "      <td>No Match</td>\n",
              "    </tr>\n",
              "    <tr>\n",
              "      <th>5</th>\n",
              "      <td>payment issue at check out</td>\n",
              "      <td>payment failed during checkout</td>\n",
              "      <td>None</td>\n",
              "      <td>No Match</td>\n",
              "    </tr>\n",
              "    <tr>\n",
              "      <th>6</th>\n",
              "      <td>application crashes when opening setings</td>\n",
              "      <td>app crashes when opening settings</td>\n",
              "      <td>app crashes when opening settings</td>\n",
              "      <td>Fuzzy-partial_ratio</td>\n",
              "    </tr>\n",
              "    <tr>\n",
              "      <th>7</th>\n",
              "      <td>app crash when going to settings</td>\n",
              "      <td>app crashes when opening settings</td>\n",
              "      <td>app crashes when opening settings</td>\n",
              "      <td>Fuzzy-ratio</td>\n",
              "    </tr>\n",
              "    <tr>\n",
              "      <th>8</th>\n",
              "      <td>settings cause the app to chrash</td>\n",
              "      <td>None</td>\n",
              "      <td>None</td>\n",
              "      <td>No Match</td>\n",
              "    </tr>\n",
              "    <tr>\n",
              "      <th>9</th>\n",
              "      <td>forgot passwrd and cant reset</td>\n",
              "      <td>forgot password and unable to reset</td>\n",
              "      <td>forgot password and unable to reset</td>\n",
              "      <td>Fuzzy-ratio</td>\n",
              "    </tr>\n",
              "    <tr>\n",
              "      <th>10</th>\n",
              "      <td>forgotten password, unable to reset</td>\n",
              "      <td>forgot password and unable to reset</td>\n",
              "      <td>forgot password and unable to reset</td>\n",
              "      <td>Fuzzy-ratio</td>\n",
              "    </tr>\n",
              "    <tr>\n",
              "      <th>11</th>\n",
              "      <td>i can’t reset my password</td>\n",
              "      <td>forgot password and unable to reset</td>\n",
              "      <td>forgot password and unable to reset</td>\n",
              "      <td>TFIDF</td>\n",
              "    </tr>\n",
              "    <tr>\n",
              "      <th>12</th>\n",
              "      <td>unable to uplod file to server</td>\n",
              "      <td>unable to upload files to the server</td>\n",
              "      <td>unable to upload files to the server</td>\n",
              "      <td>Fuzzy-ratio</td>\n",
              "    </tr>\n",
              "    <tr>\n",
              "      <th>13</th>\n",
              "      <td>can't upload files on to the server</td>\n",
              "      <td>unable to upload files to the server</td>\n",
              "      <td>unable to upload files to the server</td>\n",
              "      <td>Fuzzy-partial_ratio</td>\n",
              "    </tr>\n",
              "    <tr>\n",
              "      <th>14</th>\n",
              "      <td>file uploading to server not working</td>\n",
              "      <td>None</td>\n",
              "      <td>None</td>\n",
              "      <td>No Match</td>\n",
              "    </tr>\n",
              "    <tr>\n",
              "      <th>15</th>\n",
              "      <td>no internet connection, please help</td>\n",
              "      <td>unable to connect to the internet</td>\n",
              "      <td>unable to connect to the internet</td>\n",
              "      <td>Fuzzy-token_set_ratio</td>\n",
              "    </tr>\n",
              "    <tr>\n",
              "      <th>16</th>\n",
              "      <td>checkout page says payment failed</td>\n",
              "      <td>payment failed during checkout</td>\n",
              "      <td>payment failed during checkout</td>\n",
              "      <td>Fuzzy-token_set_ratio</td>\n",
              "    </tr>\n",
              "    <tr>\n",
              "      <th>17</th>\n",
              "      <td>settings page crashes app immediately</td>\n",
              "      <td>app crashes when opening settings</td>\n",
              "      <td>app crashes when opening settings</td>\n",
              "      <td>Fuzzy-token_set_ratio</td>\n",
              "    </tr>\n",
              "    <tr>\n",
              "      <th>18</th>\n",
              "      <td>password reset link not working</td>\n",
              "      <td>None</td>\n",
              "      <td>None</td>\n",
              "      <td>No Match</td>\n",
              "    </tr>\n",
              "    <tr>\n",
              "      <th>19</th>\n",
              "      <td>server upload fails with an error message</td>\n",
              "      <td>None</td>\n",
              "      <td>None</td>\n",
              "      <td>No Match</td>\n",
              "    </tr>\n",
              "  </tbody>\n",
              "</table>\n",
              "</div>"
            ],
            "text/plain": [
              "                             Unresolved_Query  \\\n",
              "0            unabel to conect to the internet   \n",
              "1                   can’t connect to internet   \n",
              "2                         intenet not working   \n",
              "3                payment failed while chekout   \n",
              "4   payment did not go through during chckout   \n",
              "5                  payment issue at check out   \n",
              "6    application crashes when opening setings   \n",
              "7            app crash when going to settings   \n",
              "8            settings cause the app to chrash   \n",
              "9               forgot passwrd and cant reset   \n",
              "10        forgotten password, unable to reset   \n",
              "11                  i can’t reset my password   \n",
              "12             unable to uplod file to server   \n",
              "13        can't upload files on to the server   \n",
              "14       file uploading to server not working   \n",
              "15        no internet connection, please help   \n",
              "16          checkout page says payment failed   \n",
              "17      settings page crashes app immediately   \n",
              "18            password reset link not working   \n",
              "19  server upload fails with an error message   \n",
              "\n",
              "                             Fuzzy_Match  \\\n",
              "0      unable to connect to the internet   \n",
              "1      unable to connect to the internet   \n",
              "2                                   None   \n",
              "3         payment failed during checkout   \n",
              "4         payment failed during checkout   \n",
              "5         payment failed during checkout   \n",
              "6      app crashes when opening settings   \n",
              "7      app crashes when opening settings   \n",
              "8                                   None   \n",
              "9    forgot password and unable to reset   \n",
              "10   forgot password and unable to reset   \n",
              "11   forgot password and unable to reset   \n",
              "12  unable to upload files to the server   \n",
              "13  unable to upload files to the server   \n",
              "14                                  None   \n",
              "15     unable to connect to the internet   \n",
              "16        payment failed during checkout   \n",
              "17     app crashes when opening settings   \n",
              "18                                  None   \n",
              "19                                  None   \n",
              "\n",
              "                             Fuzzy_Match            Method_Used  \n",
              "0      unable to connect to the internet            Fuzzy-ratio  \n",
              "1      unable to connect to the internet  Fuzzy-token_set_ratio  \n",
              "2                                   None               No Match  \n",
              "3         payment failed during checkout            Fuzzy-ratio  \n",
              "4                                   None               No Match  \n",
              "5                                   None               No Match  \n",
              "6      app crashes when opening settings    Fuzzy-partial_ratio  \n",
              "7      app crashes when opening settings            Fuzzy-ratio  \n",
              "8                                   None               No Match  \n",
              "9    forgot password and unable to reset            Fuzzy-ratio  \n",
              "10   forgot password and unable to reset            Fuzzy-ratio  \n",
              "11   forgot password and unable to reset                  TFIDF  \n",
              "12  unable to upload files to the server            Fuzzy-ratio  \n",
              "13  unable to upload files to the server    Fuzzy-partial_ratio  \n",
              "14                                  None               No Match  \n",
              "15     unable to connect to the internet  Fuzzy-token_set_ratio  \n",
              "16        payment failed during checkout  Fuzzy-token_set_ratio  \n",
              "17     app crashes when opening settings  Fuzzy-token_set_ratio  \n",
              "18                                  None               No Match  \n",
              "19                                  None               No Match  "
            ]
          },
          "execution_count": 10,
          "metadata": {},
          "output_type": "execute_result"
        }
      ],
      "source": [
        "# The final output is structured to match the original assignment's requested columns.\n",
        "# Note: Internally, we used 'final_results', but the display requires the original 'combined' name for consistency.\n",
        "combined = final_results.rename(columns={'Final_Match': 'Fuzzy_Match'}) # Rename for display purposes\n",
        "combined[['Unresolved_Query', 'Fuzzy_Match', 'Method_Used']]"
      ]
    },
    {
      "cell_type": "markdown",
      "metadata": {
        "id": "P0Z6icU9UPFs"
      },
      "source": [
        "# **Part 2: Name Variation Matching**"
      ]
    },
    {
      "cell_type": "markdown",
      "metadata": {
        "id": "rm-d0HcIW34Z"
      },
      "source": [
        "### 2.1: Importing Libraries"
      ]
    },
    {
      "cell_type": "code",
      "execution_count": 11,
      "metadata": {
        "id": "OnX3VkjVW-vc"
      },
      "outputs": [],
      "source": [
        "import re"
      ]
    },
    {
      "cell_type": "markdown",
      "metadata": {
        "id": "MnnNSrSrXwhl"
      },
      "source": [
        "### 2.2: Data Ingestion"
      ]
    },
    {
      "cell_type": "code",
      "execution_count": 12,
      "metadata": {
        "id": "fimYA_sHXqZG"
      },
      "outputs": [],
      "source": [
        "variant_names_df = pd.read_csv(\"name_variations.csv\")\n",
        "canonical_names_df = pd.read_csv(\"base_names.csv\")"
      ]
    },
    {
      "cell_type": "code",
      "execution_count": 13,
      "metadata": {
        "id": "dOsCyUhQXrh9"
      },
      "outputs": [
        {
          "data": {
            "text/plain": [
              "(   Base_Name_ID         Base_Name\n",
              " 0             1        John Smith\n",
              " 1             2    Jennifer Brown\n",
              " 2             3  Michael O'Connor\n",
              " 3             4      Maria Garcia\n",
              " 4             5        Robert Lee,\n",
              "       Variation Matches_With_Base_Name\n",
              " 0  Thomas  King            Thomas King\n",
              " 1    ThomasKing            Thomas King\n",
              " 2  Maria Garcia           Maria Garcia\n",
              " 3     MaryLewis             Mary Lewis\n",
              " 4      Nancy W.           Nancy Wright)"
            ]
          },
          "execution_count": 13,
          "metadata": {},
          "output_type": "execute_result"
        }
      ],
      "source": [
        "canonical_names_df.head(), variant_names_df.head()"
      ]
    },
    {
      "cell_type": "markdown",
      "metadata": {
        "id": "ETAb2nJ9XDqS"
      },
      "source": [
        "### 2.3: Name Cleaning and Standardization Function"
      ]
    },
    {
      "cell_type": "code",
      "execution_count": 14,
      "metadata": {
        "id": "_I16qea2VPT9"
      },
      "outputs": [],
      "source": [
        "def clean_and_standardize_name(input_str: str) -> str:\n",
        "    \"\"\"Standardizes a name string for effective matching.\"\"\"\n",
        "    if not isinstance(input_str, str):\n",
        "        return \"\"\n",
        "    # Add space for camelCase names, e.g., 'ThomasKing' -> 'Thomas King'\n",
        "    processed_str = re.sub(r'(?<=[a-z])(?=[A-Z])', ' ', input_str)\n",
        "    # Convert to lowercase and remove non-alphabetic chars\n",
        "    processed_str = re.sub(r'[^a-z\\s]', '', processed_str.lower())\n",
        "    # Normalize whitespace\n",
        "    processed_str = re.sub(r'\\s+', ' ', processed_str).strip()\n",
        "    return processed_str"
      ]
    },
    {
      "cell_type": "markdown",
      "metadata": {
        "id": "gzpw-JQTX6zR"
      },
      "source": [
        "### 2.4: Applying the Standardization"
      ]
    },
    {
      "cell_type": "code",
      "execution_count": 15,
      "metadata": {
        "id": "n1uglRQWX54x"
      },
      "outputs": [],
      "source": [
        "variant_names_df[\"Standardized_Name\"] = variant_names_df[\"Variation\"].apply(clean_and_standardize_name)\n",
        "canonical_names_df[\"Standardized_Name\"] = canonical_names_df[\"Base_Name\"].apply(clean_and_standardize_name)"
      ]
    },
    {
      "cell_type": "markdown",
      "metadata": {
        "id": "MAwnrMOmYDrC"
      },
      "source": [
        "### 2.5: Matching Logic using token_sort_ratio"
      ]
    },
    {
      "cell_type": "code",
      "execution_count": 16,
      "metadata": {
        "id": "Br78BUKhYCYy"
      },
      "outputs": [],
      "source": [
        "def find_canonical_match(standardized_name, canonical_df, min_confidence=80):\n",
        "    \"\"\"Finds the best matching canonical name for a given standardized variant.\"\"\"\n",
        "    choices = canonical_df[\"Standardized_Name\"]\n",
        "    \n",
        "    # Use token_sort_ratio as it handles reordered names like 'Smith John'\n",
        "    best_match = process.extractOne(\n",
        "        standardized_name,\n",
        "        choices,\n",
        "        scorer=fuzz.token_sort_ratio\n",
        "    )\n",
        "\n",
        "    if best_match and best_match[1] >= min_confidence:\n",
        "        # Retrieve the original, un-standardized base name\n",
        "        original_name = canonical_df.loc[canonical_df[\"Standardized_Name\"] == best_match[0], \"Base_Name\"].iloc[0]\n",
        "        return original_name, best_match[1]\n",
        "    \n",
        "    return None, None"
      ]
    },
    {
      "cell_type": "markdown",
      "metadata": {
        "id": "_Eo20nRCYOGR"
      },
      "source": [
        "### 2.6: Executing the Matching Process"
      ]
    },
    {
      "cell_type": "code",
      "execution_count": 17,
      "metadata": {
        "id": "eA4bCBS9YMo-"
      },
      "outputs": [],
      "source": [
        "match_data = [\n",
        "    (original_variant, *find_canonical_match(standardized_variant, canonical_names_df))\n",
        "    for original_variant, standardized_variant in zip(variant_names_df[\"Variation\"], variant_names_df[\"Standardized_Name\"])\n",
        "]"
      ]
    },
    {
      "cell_type": "markdown",
      "metadata": {
        "id": "UGdC8t9OYdz3"
      },
      "source": [
        "### 2.7: Compiling Results into a DataFrame"
      ]
    },
    {
      "cell_type": "code",
      "execution_count": 18,
      "metadata": {
        "id": "2LArnrG2YbTD"
      },
      "outputs": [
        {
          "data": {
            "text/html": [
              "<div>\n",
              "<style scoped>\n",
              "    .dataframe tbody tr th:only-of-type {\n",
              "        vertical-align: middle;\n",
              "    }\n",
              "\n",
              "    .dataframe tbody tr th {\n",
              "        vertical-align: top;\n",
              "    }\n",
              "\n",
              "    .dataframe thead th {\n",
              "        text-align: right;\n",
              "    }\n",
              "</style>\n",
              "<table border=\"1\" class=\"dataframe\">\n",
              "  <thead>\n",
              "    <tr style=\"text-align: right;\">\n",
              "      <th></th>\n",
              "      <th>Variation_Name</th>\n",
              "      <th>Matched_Base_Name</th>\n",
              "      <th>Score</th>\n",
              "    </tr>\n",
              "  </thead>\n",
              "  <tbody>\n",
              "    <tr>\n",
              "      <th>0</th>\n",
              "      <td>Thomas  King</td>\n",
              "      <td>Thomas King</td>\n",
              "      <td>100.0</td>\n",
              "    </tr>\n",
              "    <tr>\n",
              "      <th>1</th>\n",
              "      <td>ThomasKing</td>\n",
              "      <td>Thomas King</td>\n",
              "      <td>100.0</td>\n",
              "    </tr>\n",
              "    <tr>\n",
              "      <th>2</th>\n",
              "      <td>Maria Garcia</td>\n",
              "      <td>Maria Garcia</td>\n",
              "      <td>100.0</td>\n",
              "    </tr>\n",
              "    <tr>\n",
              "      <th>3</th>\n",
              "      <td>MaryLewis</td>\n",
              "      <td>Mary Lewis</td>\n",
              "      <td>100.0</td>\n",
              "    </tr>\n",
              "    <tr>\n",
              "      <th>4</th>\n",
              "      <td>Nancy W.</td>\n",
              "      <td>None</td>\n",
              "      <td>NaN</td>\n",
              "    </tr>\n",
              "    <tr>\n",
              "      <th>5</th>\n",
              "      <td>Dani3l Scott</td>\n",
              "      <td>Daniel Scott</td>\n",
              "      <td>96.0</td>\n",
              "    </tr>\n",
              "    <tr>\n",
              "      <th>6</th>\n",
              "      <td>JOHN  smith</td>\n",
              "      <td>John Smith</td>\n",
              "      <td>100.0</td>\n",
              "    </tr>\n",
              "    <tr>\n",
              "      <th>7</th>\n",
              "      <td>linda johnson</td>\n",
              "      <td>Linda Johnson</td>\n",
              "      <td>100.0</td>\n",
              "    </tr>\n",
              "    <tr>\n",
              "      <th>8</th>\n",
              "      <td>N@ncy Wright</td>\n",
              "      <td>Nancy Wright</td>\n",
              "      <td>96.0</td>\n",
              "    </tr>\n",
              "    <tr>\n",
              "      <th>9</th>\n",
              "      <td>William Davis</td>\n",
              "      <td>William Davis</td>\n",
              "      <td>100.0</td>\n",
              "    </tr>\n",
              "    <tr>\n",
              "      <th>10</th>\n",
              "      <td>Susan  Clark</td>\n",
              "      <td>Susan Clark</td>\n",
              "      <td>100.0</td>\n",
              "    </tr>\n",
              "    <tr>\n",
              "      <th>11</th>\n",
              "      <td>SusanClark</td>\n",
              "      <td>Susan Clark</td>\n",
              "      <td>100.0</td>\n",
              "    </tr>\n",
              "    <tr>\n",
              "      <th>12</th>\n",
              "      <td>Jennifer- Brown</td>\n",
              "      <td>Jennifer Brown</td>\n",
              "      <td>100.0</td>\n",
              "    </tr>\n",
              "    <tr>\n",
              "      <th>13</th>\n",
              "      <td>Michael O'Connor</td>\n",
              "      <td>Michael O'Connor</td>\n",
              "      <td>100.0</td>\n",
              "    </tr>\n",
              "    <tr>\n",
              "      <th>14</th>\n",
              "      <td>Rodriguez James</td>\n",
              "      <td>James Rodriguez</td>\n",
              "      <td>100.0</td>\n",
              "    </tr>\n",
              "  </tbody>\n",
              "</table>\n",
              "</div>"
            ],
            "text/plain": [
              "      Variation_Name Matched_Base_Name  Score\n",
              "0       Thomas  King       Thomas King  100.0\n",
              "1         ThomasKing       Thomas King  100.0\n",
              "2       Maria Garcia      Maria Garcia  100.0\n",
              "3          MaryLewis        Mary Lewis  100.0\n",
              "4           Nancy W.              None    NaN\n",
              "5       Dani3l Scott      Daniel Scott   96.0\n",
              "6        JOHN  smith        John Smith  100.0\n",
              "7      linda johnson     Linda Johnson  100.0\n",
              "8       N@ncy Wright      Nancy Wright   96.0\n",
              "9      William Davis     William Davis  100.0\n",
              "10      Susan  Clark       Susan Clark  100.0\n",
              "11        SusanClark       Susan Clark  100.0\n",
              "12   Jennifer- Brown    Jennifer Brown  100.0\n",
              "13  Michael O'Connor  Michael O'Connor  100.0\n",
              "14   Rodriguez James   James Rodriguez  100.0"
            ]
          },
          "execution_count": 18,
          "metadata": {},
          "output_type": "execute_result"
        }
      ],
      "source": [
        "matches_df = pd.DataFrame(match_data, columns=[\"Variation_Name\", \"Matched_Base_Name\", \"Score\"])\n",
        "matches_df.head(15)"
      ]
    },
    {
      "cell_type": "markdown",
      "metadata": {
        "id": "CWtVjViwYkZ9"
      },
      "source": [
        "### 2.8: Performance Evaluation"
      ]
    },
    {
      "cell_type": "code",
      "execution_count": 19,
      "metadata": {
        "id": "vOS9fu2tWGYR"
      },
      "outputs": [
        {
          "data": {
            "text/plain": [
              "0.95"
            ]
          },
          "execution_count": 19,
          "metadata": {},
          "output_type": "execute_result"
        }
      ],
      "source": [
        "from sklearn.metrics import accuracy_score\n",
        "\n",
        "# Prepare ground truth and predictions for comparison\n",
        "ground_truth = variant_names_df['Matches_With_Base_Name'].fillna(\"No Match\")\n",
        "model_predictions = matches_df['Matched_Base_Name'].fillna(\"No Match\")\n",
        "\n",
        "# Calculate accuracy\n",
        "model_accuracy = accuracy_score(ground_truth, model_predictions)\n",
        "model_accuracy"
      ]
    }
  ],
  "metadata": {
    "colab": {
      "provenance": []
    },
    "kernelspec": {
      "display_name": "Python 3",
      "name": "python3"
    },
    "language_info": {
      "codemirror_mode": {
        "name": "ipython",
        "version": 3
      },
      "file_extension": ".py",
      "mimetype": "text/x-python",
      "name": "python",
      "nbconvert_exporter": "python",
      "pygments_lexer": "ipython3",
      "version": "3.11.1"
    }
  },
  "nbformat": 4,
  "nbformat_minor": 0
}
